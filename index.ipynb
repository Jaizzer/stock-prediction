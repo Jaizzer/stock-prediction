{
 "cells": [
  {
   "cell_type": "markdown",
   "id": "07de51cd",
   "metadata": {},
   "source": [
    "# Stock Prediction"
   ]
  },
  {
   "cell_type": "markdown",
   "id": "79b06384",
   "metadata": {},
   "source": [
    "## Data preparation"
   ]
  },
  {
   "cell_type": "code",
   "execution_count": null,
   "id": "4a855b9f",
   "metadata": {},
   "outputs": [],
   "source": [
    "# Imports the pandas library — a powerful Python tool for working with structured data (like tables, spreadsheets, and time series)\n",
    "import pandas as pd\n",
    "\n",
    "# Import math module for mathematical functions and constants, including those defined by the C standard.\n",
    "import math\n",
    "\n",
    "# Import NumPy for adding support for large, multi-dimensional arrays and matrices, along with a large collection of high-level mathematical functions to operate on these arrays.\n",
    "import numpy as np\n",
    "\n",
    "# Import MinMaxScaler for data preprocessing\n",
    "from sklearn.preprocessing import MinMaxScaler\n",
    "\n",
    "# Import the data from the csv file\n",
    "data = pd.read_csv('Uber.csv')\n",
    "\n",
    "# Reset the index\n",
    "data = data.reset_index()\n",
    "\n",
    "# Remove the rows with missing 'Close' values using boolean masking\n",
    "data = data[data['Close'].notna()]\n",
    "\n",
    "# Extract the Close Price column as a Data Frame\n",
    "data_frame = pd.DataFrame()\n",
    "data_frame['Close'] = data['Close']\n",
    "\n",
    "# Convert the Data frame into a numpy array\n",
    "dataset = data_frame.values\n",
    "\n",
    "# Calculate the number of rows to train the model on.\n",
    "training_data_len = math.ceil(len(dataset) - 50)\n",
    "\n",
    "# Scale all of the data to be between 0 and 1\n",
    "min_max_scaler = MinMaxScaler(feature_range=(0, 1))\n",
    "scaled_data = min_max_scaler.fit_transform(dataset)\n"
   ]
  },
  {
   "cell_type": "markdown",
   "id": "da466827",
   "metadata": {},
   "source": [
    "## Extract the training data"
   ]
  },
  {
   "cell_type": "code",
   "execution_count": null,
   "id": "34a20f96",
   "metadata": {},
   "outputs": [],
   "source": [
    "\n",
    "# Extract the training data from the scaled dataset\n",
    "training_data = scaled_data[0 : training_data_len , :]\n",
    "\n",
    "# Split the data into x_train and y_train dataset\n",
    "x_train = []\n",
    "y_train = []\n",
    "\n",
    "for i in range(10, len(training_data)):\n",
    "    # Append the previous 10 values to x_train (10-day look back)\n",
    "    x_train.append(training_data[i-10:i,0])\n",
    "    \n",
    "    # Append the current value to y_train\n",
    "    y_train.append(training_data[i,0])\n",
    "\n",
    "# Convert x_train and y_train to numpy arrays\n",
    "x_train, y_train = np.array(x_train), np.array(y_train)\n",
    "\n",
    "# Convert the data into 3D array for LSTM\n",
    "x_train = np.reshape(x_train, (x_train.shape[0], x_train.shape[1], 1))"
   ]
  },
  {
   "cell_type": "markdown",
   "id": "e074ca68",
   "metadata": {},
   "source": [
    "## Extract the testing data"
   ]
  },
  {
   "cell_type": "code",
   "execution_count": null,
   "id": "c3be64ab",
   "metadata": {},
   "outputs": [],
   "source": [
    "\n",
    "# Extract the testing data from the scaled dataset\n",
    "testing_data = scaled_data[training_data_len - 10: , : ]\n",
    "\n",
    "# Split the data into x_test and y_test dataset\n",
    "x_test = []\n",
    "y_test = []\n",
    "\n",
    "for i in range(10, len(testing_data)):\n",
    "    # Append the previous 10 values to x_test (10-day look back)\n",
    "    x_test.append(testing_data[i-10:i,0])\n",
    "    \n",
    "    # Append the current value to y_test\n",
    "    y_test.append(testing_data[i,0])\n",
    "\n",
    "# Convert x_test and y_test to numpy arrays\n",
    "x_test, y_test = np.array(x_test), np.array(y_test)\n",
    "\n",
    "# Convert the data into 3D array for LSTM\n",
    "x_test = np.reshape(x_test, (x_test.shape[0], x_test.shape[1], 1))"
   ]
  },
  {
   "cell_type": "markdown",
   "id": "a2b225cf",
   "metadata": {},
   "source": [
    "# Models"
   ]
  },
  {
   "cell_type": "markdown",
   "id": "4d39747c",
   "metadata": {},
   "source": [
    "## LSTM (50 Units)"
   ]
  },
  {
   "cell_type": "code",
   "execution_count": null,
   "id": "0c84fd4b",
   "metadata": {},
   "outputs": [],
   "source": [
    "# Import ML model dependencies\n",
    "from keras.models import Sequential\n",
    "from keras.layers import Dense, LSTM, InputLayer\n",
    "from keras.optimizers import Adam\n",
    "from keras.callbacks import CSVLogger\n",
    "import time"
   ]
  },
  {
   "cell_type": "markdown",
   "id": "a13d489e",
   "metadata": {},
   "source": [
    "### Build the LSTM model"
   ]
  },
  {
   "cell_type": "code",
   "execution_count": null,
   "id": "f1bb0d76",
   "metadata": {},
   "outputs": [],
   "source": [
    "# Build the LSTM model\n",
    "model_lstm = Sequential()\n",
    "model_lstm.add(InputLayer(shape=(x_train.shape[1],1)))\n",
    "model_lstm.add(LSTM(units=50, return_sequences=False))\n",
    "model_lstm.add(Dense(units=1))\n",
    "\n",
    "# Compile the model\n",
    "model_lstm.compile(optimizer=Adam(learning_rate=0.01), loss='mean_squared_error')\n"
   ]
  },
  {
   "cell_type": "markdown",
   "id": "d1acc1c1",
   "metadata": {},
   "source": [
    "### Initialize the CSV logger callback"
   ]
  },
  {
   "cell_type": "code",
   "execution_count": null,
   "id": "a55712f1",
   "metadata": {},
   "outputs": [],
   "source": [
    "csv_logger_lstm = CSVLogger(\"model_history_log_lstm.csv\", append=False)"
   ]
  },
  {
   "cell_type": "markdown",
   "id": "3f952224",
   "metadata": {},
   "source": [
    "### Train the LSTM (50 units)"
   ]
  },
  {
   "cell_type": "code",
   "execution_count": null,
   "id": "bceb0b32",
   "metadata": {},
   "outputs": [],
   "source": [
    "\n",
    "# Get the training start time\n",
    "lstm_training_start_time = time.time()\n",
    " \n",
    "#Train the model\n",
    "model_lstm.fit(x_train, y_train, batch_size=10, epochs=40,validation_data=(x_test, scaled_data[training_data_len : , : ]),callbacks=[csv_logger_lstm]) \n",
    "\n",
    "# Get the training end time\n",
    "lstm_training_end_time = time.time()\n",
    "\n",
    "# Calculate the total training time\n",
    "lstm_total_training_time = lstm_training_end_time - lstm_training_start_time\n",
    "\n",
    "# Print the total LSTMtm training time\n",
    "print(lstm_total_training_time)\n"
   ]
  },
  {
   "cell_type": "markdown",
   "id": "e0262534",
   "metadata": {},
   "source": [
    "### Perform Prediction"
   ]
  },
  {
   "cell_type": "code",
   "execution_count": null,
   "id": "a2d453fb",
   "metadata": {},
   "outputs": [],
   "source": [
    "# Predict the price values\n",
    "lstm_prediction = model_lstm.predict(x_test) \n",
    "\n",
    "# Undo min max scaling\n",
    "lstm_prediction = min_max_scaler.inverse_transform(lstm_prediction)\n",
    "\n",
    "# Get the target values\n",
    "lstm_prediction_target_values = min_max_scaler.inverse_transform(np.reshape(y_test, (50, 1)))\n",
    "\n",
    "# Calculate of RMSE\n",
    "rmse_lstm = np.sqrt(np.mean(((lstm_prediction - lstm_prediction_target_values)**2)))\n",
    "\n",
    "# Print the RMSE\n",
    "print(rmse_lstm)"
   ]
  },
  {
   "cell_type": "markdown",
   "id": "d52360fd",
   "metadata": {},
   "source": [
    "## LSTM (1 Unit)"
   ]
  },
  {
   "cell_type": "markdown",
   "id": "ea426dd1",
   "metadata": {},
   "source": [
    "### Build the LSTM model"
   ]
  },
  {
   "cell_type": "code",
   "execution_count": null,
   "id": "ba577020",
   "metadata": {},
   "outputs": [],
   "source": [
    "# Build the LSTM model\n",
    "model_lstm_single_unit = Sequential()\n",
    "model_lstm_single_unit.add(InputLayer(shape=(x_train.shape[1],1)))\n",
    "model_lstm_single_unit.add(LSTM(units=50, return_sequences=False))\n",
    "model_lstm_single_unit.add(Dense(units=1))\n",
    "\n",
    "# Compile the model\n",
    "model_lstm_single_unit.compile(optimizer=Adam(learning_rate=0.01), loss='mean_squared_error')"
   ]
  },
  {
   "cell_type": "markdown",
   "id": "bc0f6449",
   "metadata": {},
   "source": [
    "### Initialize the CSV logger callback"
   ]
  },
  {
   "cell_type": "code",
   "execution_count": null,
   "id": "9d611431",
   "metadata": {},
   "outputs": [],
   "source": [
    "csv_logger_lstm = CSVLogger(\"model_history_log_lstm_single_unit.csv\", append=False)"
   ]
  },
  {
   "cell_type": "markdown",
   "id": "0c24cf53",
   "metadata": {},
   "source": [
    "### Train the LSTM (1 unit)"
   ]
  },
  {
   "cell_type": "code",
   "execution_count": null,
   "id": "44ee02d4",
   "metadata": {},
   "outputs": [],
   "source": [
    "\n",
    "# Get the training start time\n",
    "lstm_single_unit_training_start_time = time.time()\n",
    " \n",
    "#Train the model\n",
    "model_lstm_single_unit.fit(x_train, y_train, batch_size=10, epochs=40,validation_data=(x_test, scaled_data[training_data_len : , : ]),callbacks=[csv_logger_lstm]) \n",
    "\n",
    "# Get the training end time\n",
    "lstm_single_unit_training_end_time = time.time()\n",
    "\n",
    "# Calculate the total training time\n",
    "lstm_single_unit_total_training_time = lstm_single_unit_training_end_time - lstm_single_unit_training_start_time\n",
    "\n",
    "# Print the total LSTMtm training time\n",
    "print(lstm_single_unit_total_training_time)\n"
   ]
  },
  {
   "cell_type": "markdown",
   "id": "d32c03d2",
   "metadata": {},
   "source": [
    "### Perform Prediction"
   ]
  },
  {
   "cell_type": "code",
   "execution_count": null,
   "id": "ce1b1779",
   "metadata": {},
   "outputs": [],
   "source": [
    "# Predict the price values\n",
    "lstm_single_unit_prediction = model_lstm.predict(x_test) \n",
    "\n",
    "# Undo min max scaling\n",
    "lstm_single_unit_prediction = min_max_scaler.inverse_transform(lstm_single_unit_prediction)\n",
    "\n",
    "# Get the target values\n",
    "lstm_single_unit_prediction_target_values = min_max_scaler.inverse_transform(np.reshape(y_test, (50, 1)))\n",
    "\n",
    "# Calculate of RMSE\n",
    "rmse_lstm_single_unit = np.sqrt(np.mean(((lstm_single_unit_prediction - lstm_single_unit_prediction_target_values)**2)))\n",
    "\n",
    "# Print the RMSE\n",
    "print(rmse_lstm_single_unit)"
   ]
  },
  {
   "cell_type": "markdown",
   "id": "d0e412d3",
   "metadata": {},
   "source": [
    "## CNN + BiLSTM"
   ]
  },
  {
   "cell_type": "code",
   "execution_count": null,
   "id": "30e96c0a",
   "metadata": {},
   "outputs": [],
   "source": [
    "# Import dependencies\n",
    "from keras.layers import (\n",
    "    Conv1D,\n",
    "    Bidirectional,\n",
    "    Dropout\n",
    ")"
   ]
  },
  {
   "cell_type": "markdown",
   "id": "efd6d2bf",
   "metadata": {},
   "source": [
    "### Build the CNN + BiLSTM model"
   ]
  },
  {
   "cell_type": "code",
   "execution_count": null,
   "id": "f37abf5c",
   "metadata": {},
   "outputs": [],
   "source": [
    "model_cnn_bilstm = Sequential()\n",
    "model_cnn_bilstm.add(InputLayer(shape=(x_train.shape[1],1)))\n",
    "model_cnn_bilstm.add(Conv1D(filters=50, kernel_size=3, padding='same', activation='tanh'))\n",
    "model_cnn_bilstm.add(Bidirectional(LSTM(units=50, return_sequences=False)))\n",
    "model_cnn_bilstm.add(Dropout(0.5))\n",
    "model_cnn_bilstm.add(Dense(units=1))\n",
    "\n",
    "model_cnn_bilstm.compile(optimizer=Adam(learning_rate=0.001), loss='mean_squared_error')"
   ]
  },
  {
   "cell_type": "markdown",
   "id": "9785c880",
   "metadata": {},
   "source": [
    "### Initialize the CSV logger callback"
   ]
  },
  {
   "cell_type": "code",
   "execution_count": null,
   "id": "853a3151",
   "metadata": {},
   "outputs": [],
   "source": [
    "csv_logger_cnn_bilstm = CSVLogger(\"model_history_log_cnn_bilstm.csv\", append=False)"
   ]
  },
  {
   "cell_type": "markdown",
   "id": "7533c286",
   "metadata": {},
   "source": [
    "### Train the CNN + BiLSTM model"
   ]
  },
  {
   "cell_type": "code",
   "execution_count": null,
   "id": "ccbb379e",
   "metadata": {},
   "outputs": [],
   "source": [
    "\n",
    "# Get the training start time\n",
    "cnn_bilstm_training_start_time = time.time()\n",
    " \n",
    "#Train the model\n",
    "model_cnn_bilstm.fit(x_train, y_train, batch_size=10, epochs=40,validation_data=(x_test, scaled_data[training_data_len : , : ]),callbacks=[csv_logger_cnn_bilstm]) \n",
    "\n",
    "# Get the training end time\n",
    "cnn_bilstm_training_end_time = time.time()\n",
    "\n",
    "# Calculate the total training time\n",
    "cnn_bilstm_total_training_time = cnn_bilstm_training_end_time - cnn_bilstm_training_start_time\n",
    "\n",
    "# Print the total CNN + BiLSTM training time\n",
    "print(cnn_bilstm_total_training_time)"
   ]
  },
  {
   "cell_type": "markdown",
   "id": "41fbf25e",
   "metadata": {},
   "source": [
    "## LSTM + Attention (RELU)"
   ]
  },
  {
   "cell_type": "code",
   "execution_count": null,
   "id": "4720e7ad",
   "metadata": {},
   "outputs": [],
   "source": [
    "# Import dependencies\n",
    "from keras.layers import (\n",
    "    Flatten,\n",
    ")\n",
    "from keras_self_attention import SeqSelfAttention\n",
    "from sklearn.metrics import r2_score"
   ]
  },
  {
   "cell_type": "markdown",
   "id": "491f341b",
   "metadata": {},
   "source": [
    "### Build the LSTM + Attention (RELU) model"
   ]
  },
  {
   "cell_type": "code",
   "execution_count": null,
   "id": "6e15b064",
   "metadata": {},
   "outputs": [],
   "source": [
    "model_lstm_attention = Sequential()\n",
    "model_lstm_attention.add(InputLayer(shape=(x_train.shape[1],1)))\n",
    "model_lstm_attention.add(LSTM(units=50, return_sequences=True))\n",
    "model_lstm_attention.add(SeqSelfAttention(attention_activation=\"relu\"))\n",
    "model_lstm_attention.add(Flatten())\n",
    "model_lstm_attention.add(Dense(units=1))\n",
    "\n",
    "model_lstm_attention.compile(optimizer=Adam(learning_rate=0.001), loss=\"mean_squared_error\")"
   ]
  },
  {
   "cell_type": "markdown",
   "id": "e4eec6be",
   "metadata": {},
   "source": [
    "### Initialize the CSV logger callback"
   ]
  },
  {
   "cell_type": "code",
   "execution_count": null,
   "id": "9a69f480",
   "metadata": {},
   "outputs": [],
   "source": [
    "csv_logger_lstm_attention = CSVLogger(\"model_history_log_lstm_attention.csv\", append=False)"
   ]
  },
  {
   "cell_type": "markdown",
   "id": "f2a4bbbb",
   "metadata": {},
   "source": [
    "### Train the LSTM + Attention (RELU) model"
   ]
  },
  {
   "cell_type": "code",
   "execution_count": null,
   "id": "de0941c2",
   "metadata": {},
   "outputs": [],
   "source": [
    "\n",
    "# Get the training start time\n",
    "lstm_attention_training_start_time = time.time()\n",
    " \n",
    "#Train the model\n",
    "model_lstm_attention.fit(x_train, y_train, batch_size=10, epochs=40,validation_data=(x_test, scaled_data[training_data_len : , : ]),callbacks=[csv_logger_lstm_attention]) \n",
    "\n",
    "# Get the training end time\n",
    "lstm_attention_training_end_time = time.time()\n",
    "\n",
    "# Calculate the total training time\n",
    "lstm_attention_total_training_time= lstm_attention_training_end_time - lstm_attention_training_start_time\n",
    "\n",
    "# Print the total CNN + BiLSTM training time\n",
    "print(lstm_attention_total_training_time)"
   ]
  },
  {
   "cell_type": "markdown",
   "id": "3ec97b19",
   "metadata": {},
   "source": [
    "### Perform Prediction"
   ]
  },
  {
   "cell_type": "code",
   "execution_count": null,
   "id": "cd249a75",
   "metadata": {},
   "outputs": [],
   "source": [
    "# Predict the price values\n",
    "lstm_attention_prediction = model_lstm_attention.predict(x_test) \n",
    "\n",
    "# Undo min max scaling\n",
    "lstm_attention_prediction = min_max_scaler.inverse_transform(lstm_attention_prediction)\n",
    "\n",
    "# Get the target values\n",
    "lstm_attention_prediction_target_values = min_max_scaler.inverse_transform(np.reshape(y_test, (50, 1)))\n",
    "\n",
    "# Calculate of RMSE\n",
    "rmse_lstm_attention = np.sqrt(np.mean(((lstm_attention_prediction - lstm_attention_prediction_target_values)**2)))\n",
    "\n",
    "# Print the RMSE\n",
    "print(rmse_lstm_attention)"
   ]
  },
  {
   "cell_type": "markdown",
   "id": "360739f4",
   "metadata": {},
   "source": [
    "### Calculate the R-square score"
   ]
  },
  {
   "cell_type": "code",
   "execution_count": null,
   "id": "f14785a9",
   "metadata": {},
   "outputs": [],
   "source": [
    "r_square_score = r2_score(lstm_attention_prediction_target_values, lstm_attention_prediction)\n",
    "print(r_square_score)"
   ]
  }
 ],
 "metadata": {
  "kernelspec": {
   "display_name": "Python 3",
   "language": "python",
   "name": "python3"
  },
  "language_info": {
   "codemirror_mode": {
    "name": "ipython",
    "version": 3
   },
   "file_extension": ".py",
   "mimetype": "text/x-python",
   "name": "python",
   "nbconvert_exporter": "python",
   "pygments_lexer": "ipython3",
   "version": "3.12.5"
  }
 },
 "nbformat": 4,
 "nbformat_minor": 5
}
