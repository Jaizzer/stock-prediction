{
 "cells": [
  {
   "cell_type": "markdown",
   "id": "07de51cd",
   "metadata": {},
   "source": [
    "# Stock Prediction"
   ]
  },
  {
   "cell_type": "markdown",
   "id": "79b06384",
   "metadata": {},
   "source": [
    "## Data preparation"
   ]
  },
  {
   "cell_type": "code",
   "execution_count": null,
   "id": "4a855b9f",
   "metadata": {},
   "outputs": [],
   "source": [
    "# Imports the pandas library — a powerful Python tool for working with structured data (like tables, spreadsheets, and time series)\n",
    "import pandas as pd\n",
    "\n",
    "# Import math module for mathematical functions and constants, including those defined by the C standard.\n",
    "import math\n",
    "\n",
    "# Import NumPy for adding support for large, multi-dimensional arrays and matrices, along with a large collection of high-level mathematical functions to operate on these arrays.\n",
    "import numpy as np\n",
    "\n",
    "# Import MinMaxScaler for data preprocessing\n",
    "from sklearn.preprocessing import MinMaxScaler\n",
    "\n",
    "# Import the data from the csv file\n",
    "data = pd.read_csv('Uber.csv')\n",
    "\n",
    "# Reset the index\n",
    "data = data.reset_index()\n",
    "\n",
    "# Remove the rows with missing 'Close' values using boolean masking\n",
    "data = data[data['Close'].notna()]\n",
    "\n",
    "# Extract the Close Price column as a Data Frame\n",
    "data_frame = pd.DataFrame()\n",
    "data_frame['Close'] = data['Close']\n",
    "\n",
    "# Convert the Data frame into a numpy array\n",
    "dataset = data_frame.values\n",
    "\n",
    "# Calculate the number of rows to train the model on.\n",
    "training_data_len = math.ceil(len(dataset) - 50)\n",
    "\n",
    "# Scale all of the data to be between 0 and 1\n",
    "min_max_scaler = MinMaxScaler(feature_range=(0, 1))\n",
    "scaled_data = min_max_scaler.fit_transform(dataset)\n"
   ]
  },
  {
   "cell_type": "markdown",
   "id": "da466827",
   "metadata": {},
   "source": [
    "## Extract the training data"
   ]
  },
  {
   "cell_type": "code",
   "execution_count": null,
   "id": "34a20f96",
   "metadata": {},
   "outputs": [],
   "source": [
    "\n",
    "# Extract the training data from the scaled dataset\n",
    "training_data = scaled_data[0 : training_data_len , :]\n",
    "\n",
    "# Split the data into x_train and y_train dataset\n",
    "x_train = []\n",
    "y_train = []\n",
    "\n",
    "for i in range(10, len(training_data)):\n",
    "    # Append the previous 10 values to x_train (10-day look back)\n",
    "    x_train.append(training_data[i-10:i,0])\n",
    "    \n",
    "    # Append the current value to y_train\n",
    "    y_train.append(training_data[i,0])\n",
    "\n",
    "# Convert x_train and y_train to numpy arrays\n",
    "x_train, y_train = np.array(x_train), np.array(y_train)\n",
    "\n",
    "# Convert the data into 3D array for LSTM\n",
    "x_train = np.reshape(x_train, (x_train.shape[0], x_train.shape[1], 1))"
   ]
  },
  {
   "cell_type": "markdown",
   "id": "e074ca68",
   "metadata": {},
   "source": [
    "## Extract the testing data"
   ]
  },
  {
   "cell_type": "code",
   "execution_count": null,
   "id": "c3be64ab",
   "metadata": {},
   "outputs": [],
   "source": [
    "\n",
    "# Extract the testing data from the scaled dataset\n",
    "testing_data = scaled_data[training_data_len - 10: , : ]\n",
    "\n",
    "# Split the data into x_test and y_test dataset\n",
    "x_test = []\n",
    "y_test = []\n",
    "\n",
    "for i in range(10, len(testing_data)):\n",
    "    # Append the previous 10 values to x_test (10-day look back)\n",
    "    x_test.append(testing_data[i-10:i,0])\n",
    "    \n",
    "    # Append the current value to y_test\n",
    "    y_test.append(testing_data[i,0])\n",
    "\n",
    "# Convert x_test and y_test to numpy arrays\n",
    "x_test, y_test = np.array(x_test), np.array(y_test)\n",
    "\n",
    "# Convert the data into 3D array for LSTM\n",
    "x_test = np.reshape(x_test, (x_test.shape[0], x_test.shape[1], 1))"
   ]
  }
 ],
 "metadata": {
  "kernelspec": {
   "display_name": "Python 3",
   "language": "python",
   "name": "python3"
  },
  "language_info": {
   "codemirror_mode": {
    "name": "ipython",
    "version": 3
   },
   "file_extension": ".py",
   "mimetype": "text/x-python",
   "name": "python",
   "nbconvert_exporter": "python",
   "pygments_lexer": "ipython3",
   "version": "3.12.5"
  }
 },
 "nbformat": 4,
 "nbformat_minor": 5
}
